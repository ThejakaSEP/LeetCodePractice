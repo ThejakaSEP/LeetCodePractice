{
 "cells": [
  {
   "cell_type": "markdown",
   "id": "5125c76d",
   "metadata": {},
   "source": [
    "Question 01\n",
    "\n",
    "Given an array of integers nums and an integer target, return indices of the two numbers such that they add up to target.\n",
    "\n",
    "You may assume that each input would have exactly one solution, and you may not use the same element twice.\n",
    "\n",
    "You can return the answer in any order."
   ]
  },
  {
   "cell_type": "code",
   "execution_count": 12,
   "id": "8786fe4b",
   "metadata": {},
   "outputs": [],
   "source": [
    "class Solution:\n",
    "    def twoSum(self, nums, target):\n",
    "        for i in range(len(nums)):\n",
    "            for j in range(i+1,len(nums)):\n",
    "                if nums[i]+nums[j] == target:\n",
    "                    return [i,j]"
   ]
  },
  {
   "cell_type": "code",
   "execution_count": 13,
   "id": "1dcc08b6",
   "metadata": {},
   "outputs": [
    {
     "name": "stdout",
     "output_type": "stream",
     "text": [
      "[0, 1]\n"
     ]
    }
   ],
   "source": [
    "sol = Solution()\n",
    "testArr = [2,7,11,15]\n",
    "target = 9\n",
    "print(sol.twoSum(testArr,9))"
   ]
  },
  {
   "cell_type": "markdown",
   "id": "44d1bc89",
   "metadata": {},
   "source": [
    "Question 02\n",
    "\n",
    "\n",
    "Given an integer x, return true if x is palindrome integer.\n",
    "\n",
    "An integer is a palindrome when it reads the same backward as forward.\n",
    "\n",
    "For example, 121 is a palindrome while 123 is not.\n"
   ]
  },
  {
   "cell_type": "code",
   "execution_count": 14,
   "id": "ed37d025",
   "metadata": {},
   "outputs": [],
   "source": [
    "class Solution:\n",
    "    def isPalindrome(self, x):\n",
    "        lsnum = str(x)\n",
    "        if len(lsnum) == 2:\n",
    "            if lsnum[0]!=lsnum[1]:\n",
    "                return False\n",
    "            \n",
    "        for i in range(len(lsnum)):\n",
    "            if i < (len(lsnum)-i):\n",
    "                if lsnum[i] != lsnum[len(lsnum)-i-1]:\n",
    "                    return False\n",
    "           \n",
    "        return True"
   ]
  },
  {
   "cell_type": "code",
   "execution_count": 15,
   "id": "d899f159",
   "metadata": {},
   "outputs": [
    {
     "name": "stdout",
     "output_type": "stream",
     "text": [
      "False\n"
     ]
    }
   ],
   "source": [
    "sol = Solution()\n",
    "print(sol.isPalindrome(100))"
   ]
  },
  {
   "cell_type": "markdown",
   "id": "4013149f",
   "metadata": {},
   "source": [
    "Question 03\n",
    "\n",
    "Roman numerals are represented by seven different symbols: I, V, X, L, C, D and M.\n",
    "\n",
    "For example, 2 is written as II in Roman numeral, just two ones added together. 12 is written as XII, which is simply X + II. The number 27 is written as XXVII, which is XX + V + II.\n",
    "\n",
    "Roman numerals are usually written largest to smallest from left to right. However, the numeral for four is not IIII. Instead, the number four is written as IV. Because the one is before the five we subtract it making four. The same principle applies to the number nine, which is written as IX. There are six instances where subtraction is used:\n",
    "\n",
    "I can be placed before V (5) and X (10) to make 4 and 9. \n",
    "X can be placed before L (50) and C (100) to make 40 and 90. \n",
    "C can be placed before D (500) and M (1000) to make 400 and 900.\n",
    "Given a roman numeral, convert it to an integer."
   ]
  },
  {
   "cell_type": "code",
   "execution_count": 20,
   "id": "f96f7c10",
   "metadata": {},
   "outputs": [],
   "source": [
    "class Solution:\n",
    "    def romanToInt(self,str):\n",
    "        dic1 = {\n",
    "            \"I\":1,\n",
    "            \"V\":5,\n",
    "            \"X\":10,\n",
    "            \"L\":50,\n",
    "            \"C\":100,\n",
    "            \"D\":500,\n",
    "            \"M\":1000\n",
    "        }\n",
    "        \n",
    "        \n",
    "        tot = 0\n",
    "        \n",
    "        for i in range(len(str)):\n",
    "            if i==0:\n",
    "                tot += dic1[str[i]]\n",
    "            else:\n",
    "                if (str[i-1] == 'I'and str[i] == 'V') or (str[i-1] == 'I' and str[i]=='X'):\n",
    "                    tot -= 2\n",
    "                    tot += dic1[str[i]]\n",
    "                elif (str[i-1] == 'X'and str[i] == 'L') or (str[i-1] == 'X' and str[i]=='C'):\n",
    "                    tot -= 20\n",
    "                    tot += dic1[str[i]]\n",
    "                elif (str[i-1] == 'C'and str[i] == 'D') or (str[i-1] == 'C' and str[i]=='M'):\n",
    "                    tot -= 200\n",
    "                    tot += dic1[str[i]]\n",
    "                else:\n",
    "                    tot+=dic1[str[i]]\n",
    "        return tot"
   ]
  },
  {
   "cell_type": "code",
   "execution_count": 21,
   "id": "4094cd71",
   "metadata": {},
   "outputs": [
    {
     "name": "stdout",
     "output_type": "stream",
     "text": [
      "58\n"
     ]
    }
   ],
   "source": [
    "sol = Solution()\n",
    "print(sol.romanToInt('LVIII'))"
   ]
  },
  {
   "cell_type": "markdown",
   "id": "a4fac7ad",
   "metadata": {},
   "source": [
    "Question 04\n",
    "\n",
    "Write a function to find the longest common prefix string amongst an array of strings.\n",
    "\n",
    "If there is no common prefix, return an empty string \"\"."
   ]
  },
  {
   "cell_type": "code",
   "execution_count": 22,
   "id": "2a6085cd",
   "metadata": {},
   "outputs": [],
   "source": [
    "class Solution:\n",
    "    def longestCommonPrefix(self, strs):\n",
    "        letter = \"\"\n",
    "        for i in range(len(strs[0])):\n",
    "            prefix = strs[0][i]\n",
    "            for word in strs:\n",
    "                if i<len(word):\n",
    "                    if word[i] != prefix:\n",
    "                        prefix =\"\"\n",
    "                        return letter\n",
    "                else:\n",
    "                    return letter\n",
    "            letter = letter+prefix\n",
    "        return letter"
   ]
  },
  {
   "cell_type": "markdown",
   "id": "719bdecc",
   "metadata": {},
   "source": [
    "Question 05\n",
    "\n",
    "Given a string s containing just the characters '(', ')', '{', '}', '[' and ']', determine if the input string is valid.\n",
    "\n",
    "An input string is valid if:\n",
    "\n",
    "Open brackets must be closed by the same type of brackets.\n",
    "Open brackets must be closed in the correct order.\n",
    "Every close bracket has a corresponding open bracket of the same type."
   ]
  },
  {
   "cell_type": "code",
   "execution_count": 24,
   "id": "6fd475b6",
   "metadata": {},
   "outputs": [],
   "source": [
    "class Solution:\n",
    "    def isValid(self, s):\n",
    "        myList = []\n",
    "        closingDict = {\n",
    "            ')' :'(',\n",
    "            '}':'{',\n",
    "            ']':'['\n",
    "        }\n",
    "        if len(s)<=1:\n",
    "            return False\n",
    "        for i in range(len(s)):\n",
    "            if s[i]== '(' or s[i]== '{'  or s[i]== '[':\n",
    "                myList.append(s[i])\n",
    "            elif len(myList)>0 and closingDict[s[i]] == myList[-1]:\n",
    "                myList.pop()\n",
    "            else:\n",
    "                return False\n",
    "        if len(myList) !=0 :\n",
    "            return False\n",
    "        return True"
   ]
  },
  {
   "cell_type": "code",
   "execution_count": null,
   "id": "185ee315",
   "metadata": {},
   "outputs": [],
   "source": []
  }
 ],
 "metadata": {
  "kernelspec": {
   "display_name": "Python 3",
   "language": "python",
   "name": "python3"
  },
  "language_info": {
   "codemirror_mode": {
    "name": "ipython",
    "version": 3
   },
   "file_extension": ".py",
   "mimetype": "text/x-python",
   "name": "python",
   "nbconvert_exporter": "python",
   "pygments_lexer": "ipython3",
   "version": "3.9.4"
  }
 },
 "nbformat": 4,
 "nbformat_minor": 5
}
